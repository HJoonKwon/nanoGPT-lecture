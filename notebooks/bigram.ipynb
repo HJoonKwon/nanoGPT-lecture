{
 "cells": [
  {
   "cell_type": "code",
   "execution_count": 1,
   "id": "b819498a-6bc8-4f3e-8f34-8e04400487d1",
   "metadata": {},
   "outputs": [
    {
     "name": "stdout",
     "output_type": "stream",
     "text": [
      "--2024-01-16 18:11:21--  https://raw.githubusercontent.com/karpathy/char-rnn/master/data/tinyshakespeare/input.txt\n",
      "Resolving raw.githubusercontent.com (raw.githubusercontent.com)... 185.199.109.133, 185.199.108.133, 185.199.110.133, ...\n",
      "Connecting to raw.githubusercontent.com (raw.githubusercontent.com)|185.199.109.133|:443... connected.\n",
      "HTTP request sent, awaiting response... 200 OK\n",
      "Length: 1115394 (1.1M) [text/plain]\n",
      "Saving to: ‘input.txt’\n",
      "\n",
      "input.txt           100%[===================>]   1.06M  --.-KB/s    in 0.03s   \n",
      "\n",
      "2024-01-16 18:11:21 (34.0 MB/s) - ‘input.txt’ saved [1115394/1115394]\n",
      "\n"
     ]
    }
   ],
   "source": [
    "# We always start with a dataset to train on. Let's download the tiny shakespeare dataset\n",
    "# !wget https://raw.githubusercontent.com/karpathy/char-rnn/master/data/tinyshakespeare/input.txt"
   ]
  },
  {
   "cell_type": "code",
   "execution_count": 1,
   "id": "280a1d0b-9488-4819-8b75-efe95d229ef3",
   "metadata": {},
   "outputs": [],
   "source": [
    "# read it in to inspect it\n",
    "with open('input.txt', 'r', encoding='utf-8') as f:\n",
    "    text = f.read()"
   ]
  },
  {
   "cell_type": "code",
   "execution_count": 2,
   "id": "0cbc5da4-9484-493b-bc7b-34a7ae99247e",
   "metadata": {},
   "outputs": [
    {
     "name": "stdout",
     "output_type": "stream",
     "text": [
      "length of the text file = 1115394\n"
     ]
    }
   ],
   "source": [
    "print(f\"length of the text file = {len(text)}\")"
   ]
  },
  {
   "cell_type": "code",
   "execution_count": 3,
   "id": "4886aaca-db29-4aa0-895b-7d41f1a8f1f6",
   "metadata": {},
   "outputs": [
    {
     "name": "stdout",
     "output_type": "stream",
     "text": [
      "First Citizen:\n",
      "Before we proceed any further, hear me speak.\n",
      "\n",
      "All:\n",
      "Speak, speak.\n",
      "\n",
      "First Citizen:\n",
      "You are all resolved rather to die than to famish?\n",
      "\n",
      "All:\n",
      "Resolved. resolved.\n",
      "\n",
      "First Citizen:\n",
      "First, you know Caius Marcius is chief enemy to the people.\n",
      "\n",
      "All:\n",
      "We know't, we know't.\n",
      "\n",
      "First Citizen:\n",
      "Let us kill him, and we'll have corn at our own price.\n",
      "Is't a verdict?\n",
      "\n",
      "All:\n",
      "No more talking on't; let it be done: away, away!\n",
      "\n",
      "Second Citizen:\n",
      "One word, good citizens.\n",
      "\n",
      "First Citizen:\n",
      "We are accounted poor citizens, the patricians good.\n",
      "What authority surfeits on would relieve us: if they\n",
      "would yield us but the superfluity, while it were\n",
      "wholesome, we might guess they relieved us humanely;\n",
      "but they think we are too dear: the leanness that\n",
      "afflicts us, the object of our misery, is as an\n",
      "inventory to particularise their abundance; our\n",
      "sufferance is a gain to them Let us revenge this with\n",
      "our pikes, ere we become rakes: for the gods know I\n",
      "speak this in hunger for bread, not in thirst for revenge.\n",
      "\n",
      "\n"
     ]
    }
   ],
   "source": [
    "print(text[:1000])"
   ]
  },
  {
   "cell_type": "code",
   "execution_count": 4,
   "id": "648ba44e-39e8-4331-9617-5507e6e39858",
   "metadata": {},
   "outputs": [
    {
     "name": "stdout",
     "output_type": "stream",
     "text": [
      "\n",
      " !$&',-.3:;?ABCDEFGHIJKLMNOPQRSTUVWXYZabcdefghijklmnopqrstuvwxyz\n",
      "65\n"
     ]
    }
   ],
   "source": [
    "chars = sorted(list(set(text)))\n",
    "vocab_size = len(chars)\n",
    "print(''.join(chars))\n",
    "print(vocab_size)"
   ]
  },
  {
   "cell_type": "code",
   "execution_count": 5,
   "id": "2e37ea57-2dd9-4434-a95d-c142d16ce99f",
   "metadata": {},
   "outputs": [],
   "source": [
    "stoi = {s:i for i, s in enumerate(chars)}\n",
    "itos = {i:s for s, i in stoi.items()} \n",
    "encode = lambda s: [stoi[c] for c in s]\n",
    "decode = lambda l: ''.join([itos[i] for i in l])"
   ]
  },
  {
   "cell_type": "code",
   "execution_count": 6,
   "id": "bb13f1ad-b284-4f17-8c53-fd5f578f239a",
   "metadata": {},
   "outputs": [
    {
     "name": "stdout",
     "output_type": "stream",
     "text": [
      "[46, 47, 1, 58, 46, 43, 56, 43]\n",
      "hi there\n"
     ]
    }
   ],
   "source": [
    "print(encode('hi there'))\n",
    "print(decode(encode('hi there')))"
   ]
  },
  {
   "cell_type": "code",
   "execution_count": 7,
   "id": "1f64ed2f-8bb4-40c8-b593-cb17c1a1858c",
   "metadata": {},
   "outputs": [
    {
     "name": "stdout",
     "output_type": "stream",
     "text": [
      "torch.Size([1115394]) torch.int64\n",
      "tensor([18, 47, 56, 57, 58,  1, 15, 47, 58, 47, 64, 43, 52, 10,  0, 14, 43, 44,\n",
      "        53, 56, 43,  1, 61, 43,  1, 54, 56, 53, 41, 43, 43, 42,  1, 39, 52, 63,\n",
      "         1, 44, 59, 56, 58, 46, 43, 56,  6,  1, 46, 43, 39, 56,  1, 51, 43,  1,\n",
      "        57, 54, 43, 39, 49,  8,  0,  0, 13, 50, 50, 10,  0, 31, 54, 43, 39, 49,\n",
      "         6,  1, 57, 54, 43, 39, 49,  8,  0,  0, 18, 47, 56, 57, 58,  1, 15, 47,\n",
      "        58, 47, 64, 43, 52, 10,  0, 37, 53, 59])\n"
     ]
    }
   ],
   "source": [
    "import torch \n",
    "data = torch.tensor(encode(text), dtype=torch.long)\n",
    "print(data.shape, data.dtype)\n",
    "print(data[:100])"
   ]
  },
  {
   "cell_type": "code",
   "execution_count": 8,
   "id": "f77ba381-5d75-4e7d-839a-8647ff75099f",
   "metadata": {},
   "outputs": [],
   "source": [
    "n = int(len(data) * 0.9) \n",
    "train_data = data[:n]\n",
    "val_data = data[n:]"
   ]
  },
  {
   "cell_type": "code",
   "execution_count": 9,
   "id": "b4a0d62b-2426-4489-b309-0efd24af96a3",
   "metadata": {},
   "outputs": [
    {
     "data": {
      "text/plain": [
       "tensor([18, 47, 56, 57, 58,  1, 15, 47, 58])"
      ]
     },
     "execution_count": 9,
     "metadata": {},
     "output_type": "execute_result"
    }
   ],
   "source": [
    "block_size = 8 \n",
    "train_data[:block_size+1]"
   ]
  },
  {
   "cell_type": "code",
   "execution_count": 10,
   "id": "d47fec53-59fe-49ff-98fa-754e98a263ef",
   "metadata": {},
   "outputs": [
    {
     "name": "stdout",
     "output_type": "stream",
     "text": [
      "input: tensor([18]) ---> target: 47\n",
      "input: tensor([18, 47]) ---> target: 56\n",
      "input: tensor([18, 47, 56]) ---> target: 57\n",
      "input: tensor([18, 47, 56, 57]) ---> target: 58\n",
      "input: tensor([18, 47, 56, 57, 58]) ---> target: 1\n",
      "input: tensor([18, 47, 56, 57, 58,  1]) ---> target: 15\n",
      "input: tensor([18, 47, 56, 57, 58,  1, 15]) ---> target: 47\n",
      "input: tensor([18, 47, 56, 57, 58,  1, 15, 47]) ---> target: 58\n"
     ]
    }
   ],
   "source": [
    "x = train_data[:block_size]\n",
    "y = train_data[1:block_size+1]\n",
    "for t in range(block_size):\n",
    "    context = x[:t+1]\n",
    "    target = y[t]\n",
    "    print(f\"input: {context} ---> target: {target}\")"
   ]
  },
  {
   "cell_type": "code",
   "execution_count": 18,
   "id": "5ce1ad06-1365-470e-acb6-f33890369682",
   "metadata": {},
   "outputs": [
    {
     "name": "stdout",
     "output_type": "stream",
     "text": [
      "tensor([459831, 425370, 157902, 365622])\n",
      "tensor([[47, 42, 39, 51, 43,  6,  0, 32],\n",
      "        [53, 52, 42,  6,  1, 58, 46, 39],\n",
      "        [53, 59, 56,  1, 61, 47, 58, 46],\n",
      "        [43, 50, 43, 63,  8,  0, 21,  1]])\n",
      "tensor([[42, 39, 51, 43,  6,  0, 32, 46],\n",
      "        [52, 42,  6,  1, 58, 46, 39, 58],\n",
      "        [59, 56,  1, 61, 47, 58, 46,  1],\n",
      "        [50, 43, 63,  8,  0, 21,  1, 57]])\n"
     ]
    }
   ],
   "source": [
    "ix = torch.randint(len(data) - block_size, (batch_size, ))\n",
    "x = torch.stack([data[i:i+block_size] for i in ix])\n",
    "y = torch.stack([data[i+1:i+block_size+1] for i in ix])\n",
    "print(ix)\n",
    "print(x)\n",
    "print(y)"
   ]
  },
  {
   "cell_type": "code",
   "execution_count": 21,
   "id": "07d1649f-e9df-4613-a532-eae089f8a10d",
   "metadata": {},
   "outputs": [
    {
     "name": "stdout",
     "output_type": "stream",
     "text": [
      "inputs\n",
      "tensor([[24, 43, 58,  5, 57,  1, 46, 43],\n",
      "        [44, 53, 56,  1, 58, 46, 39, 58],\n",
      "        [52, 58,  1, 58, 46, 39, 58,  1],\n",
      "        [25, 17, 27, 10,  0, 21,  1, 54]])\n",
      "shape = torch.Size([4, 8])\n",
      "outputs\n",
      "tensor([[43, 58,  5, 57,  1, 46, 43, 39],\n",
      "        [53, 56,  1, 58, 46, 39, 58,  1],\n",
      "        [58,  1, 58, 46, 39, 58,  1, 46],\n",
      "        [17, 27, 10,  0, 21,  1, 54, 39]])\n",
      "shape = torch.Size([4, 8])\n",
      "----------------------------\n",
      "inputs: tensor([24]) --> target: 43\n",
      "inputs: tensor([24, 43]) --> target: 58\n",
      "inputs: tensor([24, 43, 58]) --> target: 5\n",
      "inputs: tensor([24, 43, 58,  5]) --> target: 57\n",
      "inputs: tensor([24, 43, 58,  5, 57]) --> target: 1\n",
      "inputs: tensor([24, 43, 58,  5, 57,  1]) --> target: 46\n",
      "inputs: tensor([24, 43, 58,  5, 57,  1, 46]) --> target: 43\n",
      "inputs: tensor([24, 43, 58,  5, 57,  1, 46, 43]) --> target: 39\n",
      "inputs: tensor([44]) --> target: 53\n",
      "inputs: tensor([44, 53]) --> target: 56\n",
      "inputs: tensor([44, 53, 56]) --> target: 1\n",
      "inputs: tensor([44, 53, 56,  1]) --> target: 58\n",
      "inputs: tensor([44, 53, 56,  1, 58]) --> target: 46\n",
      "inputs: tensor([44, 53, 56,  1, 58, 46]) --> target: 39\n",
      "inputs: tensor([44, 53, 56,  1, 58, 46, 39]) --> target: 58\n",
      "inputs: tensor([44, 53, 56,  1, 58, 46, 39, 58]) --> target: 1\n",
      "inputs: tensor([52]) --> target: 58\n",
      "inputs: tensor([52, 58]) --> target: 1\n",
      "inputs: tensor([52, 58,  1]) --> target: 58\n",
      "inputs: tensor([52, 58,  1, 58]) --> target: 46\n",
      "inputs: tensor([52, 58,  1, 58, 46]) --> target: 39\n",
      "inputs: tensor([52, 58,  1, 58, 46, 39]) --> target: 58\n",
      "inputs: tensor([52, 58,  1, 58, 46, 39, 58]) --> target: 1\n",
      "inputs: tensor([52, 58,  1, 58, 46, 39, 58,  1]) --> target: 46\n",
      "inputs: tensor([25]) --> target: 17\n",
      "inputs: tensor([25, 17]) --> target: 27\n",
      "inputs: tensor([25, 17, 27]) --> target: 10\n",
      "inputs: tensor([25, 17, 27, 10]) --> target: 0\n",
      "inputs: tensor([25, 17, 27, 10,  0]) --> target: 21\n",
      "inputs: tensor([25, 17, 27, 10,  0, 21]) --> target: 1\n",
      "inputs: tensor([25, 17, 27, 10,  0, 21,  1]) --> target: 54\n",
      "inputs: tensor([25, 17, 27, 10,  0, 21,  1, 54]) --> target: 39\n"
     ]
    }
   ],
   "source": [
    "torch.manual_seed(1337)\n",
    "batch_size = 4 # how many examples to put into the model in parellel \n",
    "block_size = 8 # the maximum context length to predict the next token  \n",
    "\n",
    "def get_batch(split):\n",
    "    data = train_data if split=='train' else val_data \n",
    "    ix = torch.randint(len(data) - block_size, (batch_size, ))\n",
    "    x = torch.stack([data[i:i+block_size] for i in ix])\n",
    "    y = torch.stack([data[i+1:i+block_size+1] for i in ix])\n",
    "    return x, y \n",
    "\n",
    "xb, yb = get_batch('train')\n",
    "print('inputs')\n",
    "print(xb)\n",
    "print(f'shape = {xb.shape}')\n",
    "print('outputs')\n",
    "print(yb)\n",
    "print(f'shape = {yb.shape}')\n",
    "print('----------------------------')\n",
    "\n",
    "for bi in range(batch_size):\n",
    "    for ti in range(block_size):\n",
    "        context = xb[bi, :ti+1]\n",
    "        target = yb[bi, ti]\n",
    "        print(f\"inputs: {context} --> target: {target}\")"
   ]
  },
  {
   "cell_type": "code",
   "execution_count": 25,
   "id": "798a136d-a1ff-4d52-9b47-672266e5596a",
   "metadata": {
    "editable": true,
    "slideshow": {
     "slide_type": ""
    },
    "tags": []
   },
   "outputs": [
    {
     "name": "stdout",
     "output_type": "stream",
     "text": [
      "torch.Size([32, 65])\n",
      "tensor(4.4547, grad_fn=<NllLossBackward0>)\n",
      "\n",
      "Yr.YjvmHFQqBWq$?lP$PbdNM.\n",
      "IT:aT:XAFhQMX:WMlcvTqeVtA:$?whM&KAXBk$JBh,zo!-fHP?$quhdMrn yNx-Vi3rXf?:Hxw\n"
     ]
    }
   ],
   "source": [
    "import torch \n",
    "import torch.nn as nn \n",
    "import torch.nn.functional as F \n",
    "torch.manual_seed(2024)\n",
    "\n",
    "class BigramLanguageModel(nn.Module):\n",
    "\n",
    "    def __init__(self, vocab_size):\n",
    "        super().__init__()\n",
    "        self.token_embedding_table = nn.Embedding(vocab_size, vocab_size)\n",
    "\n",
    "    def forward(self, idx, targets=None): # targets = (B, T)\n",
    "        logits = self.token_embedding_table(idx) # idx = (B, T)\n",
    "\n",
    "        if targets is None:\n",
    "            loss = None \n",
    "        else:\n",
    "            B, T, C = logits.shape \n",
    "            logits = logits.view(B*T, C) \n",
    "            targets = targets.view(B*T)\n",
    "            loss = F.cross_entropy(logits, targets)\n",
    "        return logits, loss  \n",
    "\n",
    "    def generate(self, idx, max_new_tokens):\n",
    "        for i in range(max_new_tokens):\n",
    "            logits, loss = self(idx)\n",
    "            logits = logits[:, -1, :] # (B, C) \n",
    "            probs = F.softmax(logits, -1) # (B, C)\n",
    "            idx_next = torch.multinomial(probs, num_samples=1) # (B, 1)\n",
    "            idx = torch.cat((idx, idx_next), dim=1) # (B, T+1)\n",
    "        return idx  \n",
    "\n",
    "m = BigramLanguageModel(vocab_size)\n",
    "logits, loss = m(xb, yb)\n",
    "print(logits.shape)\n",
    "print(loss)\n",
    "\n",
    "print(decode(m.generate(idx=torch.zeros((1, 1), dtype=torch.long), max_new_tokens=100)[0].tolist()))"
   ]
  },
  {
   "cell_type": "code",
   "execution_count": 26,
   "id": "3fe2b7fc-4df3-4661-b3ea-0bb3be646ae2",
   "metadata": {},
   "outputs": [],
   "source": [
    "optimizer = torch.optim.AdamW(m.parameters(), lr=1e-3)"
   ]
  },
  {
   "cell_type": "code",
   "execution_count": 28,
   "id": "b3fe8342-cf32-483f-aee3-981312f730de",
   "metadata": {},
   "outputs": [
    {
     "name": "stdout",
     "output_type": "stream",
     "text": [
      "4225\n"
     ]
    }
   ],
   "source": [
    "print(sum([p.nelement() for p in m.parameters()]))"
   ]
  },
  {
   "cell_type": "code",
   "execution_count": 30,
   "id": "94e23c2b-aff3-40f4-867c-d7bce1329afa",
   "metadata": {},
   "outputs": [
    {
     "name": "stdout",
     "output_type": "stream",
     "text": [
      "4.33015775680542\n"
     ]
    }
   ],
   "source": [
    "batch_size = 32 \n",
    "\n",
    "for steps in range(100):\n",
    "    xb, yb = get_batch('train')\n",
    "\n",
    "    logits, loss = m(xb, yb)\n",
    "    optimizer.zero_grad(set_to_none=True)\n",
    "    loss.backward()\n",
    "    optimizer.step() \n",
    "\n",
    "print(loss.item())"
   ]
  },
  {
   "cell_type": "code",
   "execution_count": null,
   "id": "dea542d1-3a2c-402c-b56f-23965f8e60ed",
   "metadata": {},
   "outputs": [],
   "source": []
  }
 ],
 "metadata": {
  "kernelspec": {
   "display_name": "Python 3 (ipykernel)",
   "language": "python",
   "name": "python3"
  },
  "language_info": {
   "codemirror_mode": {
    "name": "ipython",
    "version": 3
   },
   "file_extension": ".py",
   "mimetype": "text/x-python",
   "name": "python",
   "nbconvert_exporter": "python",
   "pygments_lexer": "ipython3",
   "version": "3.10.13"
  }
 },
 "nbformat": 4,
 "nbformat_minor": 5
}
